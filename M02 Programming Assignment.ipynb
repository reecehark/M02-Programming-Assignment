{
 "cells": [
  {
   "cell_type": "code",
   "execution_count": 7,
   "id": "a07318f4",
   "metadata": {},
   "outputs": [
    {
     "name": "stdout",
     "output_type": "stream",
     "text": [
      "too low\n"
     ]
    }
   ],
   "source": [
    "secret = 7  \n",
    "guess = 4   \n",
    "\n",
    "if guess < secret:   \n",
    "    print('too low')\n",
    "elif guess > secret: \n",
    "    print('too high')\n",
    "else:   \n",
    "    print('just right')"
   ]
  },
  {
   "cell_type": "code",
   "execution_count": 9,
   "id": "89fea6b9",
   "metadata": {},
   "outputs": [
    {
     "name": "stdout",
     "output_type": "stream",
     "text": [
      "The fruit is a cherry.\n"
     ]
    }
   ],
   "source": [
    "small = True   \n",
    "green = False  \n",
    "\n",
    "if small and not green:   \n",
    "    print('The fruit is a cherry.')\n",
    "elif not small and green:  \n",
    "    print('The fruit is a watermelon.')\n",
    "elif small and green:  \n",
    "    print('The fruit is a pea.')\n",
    "else:  \n",
    "    print('The fruit is a cantaloupe.')"
   ]
  },
  {
   "cell_type": "code",
   "execution_count": 11,
   "id": "02ff6564",
   "metadata": {},
   "outputs": [
    {
     "name": "stdout",
     "output_type": "stream",
     "text": [
      "3\n",
      "2\n",
      "1\n",
      "0\n"
     ]
    }
   ],
   "source": [
    "list = [3, 2, 1, 0]\n",
    "\n",
    "for num in list:\n",
    "    print(num)"
   ]
  },
  {
   "cell_type": "code",
   "execution_count": 12,
   "id": "05210ccc",
   "metadata": {},
   "outputs": [
    {
     "name": "stdout",
     "output_type": "stream",
     "text": [
      "too low\n",
      "too low\n",
      "too low\n",
      "too low\n",
      "too low\n",
      "too low\n",
      "found it!\n"
     ]
    }
   ],
   "source": [
    "guess_me = 7   \n",
    "number = 1     \n",
    "\n",
    "while number <= guess_me:   \n",
    "    if number < guess_me:  \n",
    "        print('too low')\n",
    "    elif number == guess_me:  \n",
    "        print('found it!')\n",
    "        break   \n",
    "    else:   \n",
    "        print('oops')\n",
    "        break   \n",
    "    number += 1  "
   ]
  },
  {
   "cell_type": "code",
   "execution_count": 13,
   "id": "3c886bd6",
   "metadata": {},
   "outputs": [
    {
     "name": "stdout",
     "output_type": "stream",
     "text": [
      "too low\n",
      "too low\n",
      "too low\n",
      "too low\n",
      "too low\n",
      "found it!\n"
     ]
    }
   ],
   "source": [
    "guess_me = 5\n",
    "\n",
    "for number in range(10):   \n",
    "    if number < guess_me: \n",
    "        print('too low')\n",
    "    elif number == guess_me:  \n",
    "        print('found it!')\n",
    "        break   \n",
    "    else:  \n",
    "        print('oops')\n",
    "        break   "
   ]
  }
 ],
 "metadata": {
  "kernelspec": {
   "display_name": "Python 3 (ipykernel)",
   "language": "python",
   "name": "python3"
  },
  "language_info": {
   "codemirror_mode": {
    "name": "ipython",
    "version": 3
   },
   "file_extension": ".py",
   "mimetype": "text/x-python",
   "name": "python",
   "nbconvert_exporter": "python",
   "pygments_lexer": "ipython3",
   "version": "3.10.9"
  }
 },
 "nbformat": 4,
 "nbformat_minor": 5
}
